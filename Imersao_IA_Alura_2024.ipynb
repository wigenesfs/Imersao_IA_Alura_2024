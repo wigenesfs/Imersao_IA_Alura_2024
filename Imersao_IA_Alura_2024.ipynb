{
  "cells": [
    {
      "cell_type": "markdown",
      "metadata": {
        "id": "view-in-github",
        "colab_type": "text"
      },
      "source": [
        "<a href=\"https://colab.research.google.com/github/wigenesfs/Imersao_IA_Alura_2024/blob/main/Imersao_IA_Alura_2024.ipynb\" target=\"_parent\"><img src=\"https://colab.research.google.com/assets/colab-badge.svg\" alt=\"Open In Colab\"/></a>"
      ]
    },
    {
      "cell_type": "markdown",
      "source": [
        "#**Sumarizador Imparcial de Discursos dos Deputados Federais**\n",
        "###**Descrição**\n",
        "Este projeto visa fornecer resumos concisos e informativos dos discursos proferidos por deputados federais na Câmara dos Deputados do Brasil, utilizando o poder dos Modelos de Linguagem de Grande Escala (LLMs), especificamente do Gemini do Google. Nosso foco é garantir a imparcialidade, eliminando vieses ideológicos ou políticos nos resumos gerados.\n",
        "\n",
        "###**Funcionalidades Principais**\n",
        "Coleta de Dados: Os discursos são coletados diretamente do site da Câmara dos Deputados, garantindo acesso à fonte primária da informação.\n",
        "Resumos Imparciais: Utilizamos o LLM Gemini para gerar resumos concisos, livres de qualquer viés ideológico ou político. Nosso objetivo é apresentar o conteúdo de forma neutra e informativa.\n",
        "\n",
        "###**Fonte de dados**\n",
        "Banco de discursos dos Deputados Federais disponível em [Notas Taquigráficas da Câmara dos Deputados](https://www2.camara.leg.br/atividade-legislativa/discursos-e-notas-taquigraficas)\n",
        "\n",
        "###**Como Usar**\n",
        "Digitar o nome do parlamentar, podendo ser em maiúscula ou minúscula. É necessário também informar a data inicial e data final dos discurso proferidos.\n",
        "\n",
        "Ex.: Para ver o resumo dos discursos proferidos pelo Deputado Tiririca entre 01/08/2017 e 04/09/2017, preencher os campos exibidos no modelo.\n",
        "\n",
        "###**Contato**\n",
        "Nome do desenvolvedor: Wigenes Sampaio\n",
        "Email: [wigenesfs@gmail.com](wigenesfs@gmail.com)\n",
        "\n",
        "###**Licença**\n",
        "Este projeto está licenciado sob a licença [MIT](https://opensource.org/license/MIT)."
      ],
      "metadata": {
        "id": "JhEVhyIlp9lQ"
      }
    },
    {
      "cell_type": "markdown",
      "source": [
        "# MODELO DE SUMARIZAÇÃO"
      ],
      "metadata": {
        "id": "LyX_T4owtd-w"
      }
    },
    {
      "cell_type": "markdown",
      "metadata": {
        "id": "kHkHARdb1ZID"
      },
      "source": [
        "#### Instalação das bibliotecas necessárias"
      ]
    },
    {
      "cell_type": "code",
      "execution_count": 1,
      "metadata": {
        "id": "J6Pd9SFJ1yVi"
      },
      "outputs": [],
      "source": [
        "!pip install -q -U google-generativeai"
      ]
    },
    {
      "cell_type": "code",
      "source": [
        "from bs4 import BeautifulSoup\n",
        "import pandas as pd\n",
        "import requests\n",
        "from IPython.display import display, Markdown\n",
        "import textwrap"
      ],
      "metadata": {
        "id": "K_E-V2rzGeye"
      },
      "execution_count": 12,
      "outputs": []
    },
    {
      "cell_type": "markdown",
      "metadata": {
        "id": "EeMCtmx9ykyx"
      },
      "source": [
        "#### Configurar a API key"
      ]
    },
    {
      "cell_type": "code",
      "execution_count": 3,
      "metadata": {
        "id": "HTiaTu6O1LRC"
      },
      "outputs": [],
      "source": [
        "# Import the Python SDK\n",
        "import google.generativeai as genai\n",
        "# Used to securely store your API key\n",
        "from google.colab import userdata\n",
        "\n",
        "GEMINI_API_KEY=userdata.get('GEMINI_API_KEY')\n",
        "genai.configure(api_key=GEMINI_API_KEY)"
      ]
    },
    {
      "cell_type": "markdown",
      "source": [
        "#### Definir configurações para o modelo"
      ],
      "metadata": {
        "id": "eazZGhh7CuuU"
      }
    },
    {
      "cell_type": "code",
      "source": [
        "gen_config = {\n",
        "  \"temperature\": 0.2,\n",
        "  \"top_p\": 0.95,\n",
        "  \"top_k\": 2,\n",
        "  \"max_output_tokens\": 8192,\n",
        "}\n",
        "\n",
        "safety_config = [\n",
        "  {\n",
        "    \"category\": \"HARM_CATEGORY_HARASSMENT\",\n",
        "    \"threshold\": \"BLOCK_MEDIUM_AND_ABOVE\"\n",
        "  },\n",
        "  {\n",
        "    \"category\": \"HARM_CATEGORY_HATE_SPEECH\",\n",
        "    \"threshold\": \"BLOCK_MEDIUM_AND_ABOVE\"\n",
        "  },\n",
        "  {\n",
        "    \"category\": \"HARM_CATEGORY_SEXUALLY_EXPLICIT\",\n",
        "    \"threshold\": \"BLOCK_MEDIUM_AND_ABOVE\"\n",
        "  },\n",
        "  {\n",
        "    \"category\": \"HARM_CATEGORY_DANGEROUS_CONTENT\",\n",
        "    \"threshold\": \"BLOCK_MEDIUM_AND_ABOVE\"\n",
        "  },\n",
        "]\n",
        "\n",
        "# Link base para o webscraping\n",
        "LINK = \"https://www.camara.leg.br/internet/sitaqweb/\""
      ],
      "metadata": {
        "id": "-93v3xbuCyby"
      },
      "execution_count": 4,
      "outputs": []
    },
    {
      "cell_type": "markdown",
      "source": [
        "#### Listar modelos disponíveis"
      ],
      "metadata": {
        "id": "_YCsGcz5SL1H"
      }
    },
    {
      "cell_type": "code",
      "source": [
        "for m in genai.list_models():\n",
        "  if 'generateContent' in m.supported_generation_methods:\n",
        "    print(m.name)"
      ],
      "metadata": {
        "colab": {
          "base_uri": "https://localhost:8080/",
          "height": 139
        },
        "id": "eX8WyVOpR-uY",
        "outputId": "af9a17da-ee5c-454d-8c55-21578f2887b1"
      },
      "execution_count": 6,
      "outputs": [
        {
          "output_type": "stream",
          "name": "stdout",
          "text": [
            "models/gemini-1.0-pro\n",
            "models/gemini-1.0-pro-001\n",
            "models/gemini-1.0-pro-latest\n",
            "models/gemini-1.0-pro-vision-latest\n",
            "models/gemini-1.5-pro-latest\n",
            "models/gemini-pro\n",
            "models/gemini-pro-vision\n"
          ]
        }
      ]
    },
    {
      "cell_type": "markdown",
      "metadata": {
        "id": "CZPYk29o2No0"
      },
      "source": [
        "#### Iniciar o Modelo"
      ]
    },
    {
      "cell_type": "code",
      "execution_count": 7,
      "metadata": {
        "id": "s-JqXcDe2hZ_"
      },
      "outputs": [],
      "source": [
        "#model = genai.GenerativeModel('gemini-pro')\n",
        "model = genai.GenerativeModel(\"gemini-pro\",\n",
        "                              generation_config=gen_config,\n",
        "                              safety_settings=safety_config)"
      ]
    },
    {
      "cell_type": "markdown",
      "source": [
        "#### Função para obter conteúdo dos discursos dos parlamentares"
      ],
      "metadata": {
        "id": "M_o0ON7kGRVl"
      }
    },
    {
      "cell_type": "code",
      "source": [
        "def fn_get_proxima_data(data):\n",
        "    proximo_dia = pd.to_datetime(data) + pd.DateOffset(days=1)\n",
        "    return proximo_dia\n",
        "\n",
        "\n",
        "def fn_get_notas_taquigafricas(orador, data_inicial, data_final, link):\n",
        "    discursos = []\n",
        "    data_discurso = []\n",
        "    df = pd.DataFrame()\n",
        "    orador = orador.replace(\" \", \"+\")\n",
        "    link_base = link\n",
        "    data_inicial = pd.to_datetime(data_inicial, dayfirst=True)\n",
        "    data_final = pd.to_datetime(data_final, dayfirst=True)\n",
        "    data_atual = pd.to_datetime(data_inicial, dayfirst=True)\n",
        "\n",
        "    while data_atual <= data_final:\n",
        "        inicio_dia = data_atual.day\n",
        "        inicio_mes = data_atual.month\n",
        "        inicio_ano = data_atual.year\n",
        "\n",
        "        fim_dia = data_atual.day\n",
        "        fim_mes = data_atual.month\n",
        "        fim_ano = data_atual.year\n",
        "\n",
        "        uri = f\"https://www.camara.leg.br/internet/sitaqweb/resultadoPesquisaDiscursos.asp?txOrador={orador}&txPartido=&txUF=&dtInicio={inicio_dia}%2F{inicio_mes}%2F{inicio_ano}&dtFim={fim_dia}%2F{fim_mes}%2F{fim_ano}&txTexto=&txSumario=&basePesq=plenario&CampoOrdenacao=dtSessao&PageSize=50&TipoOrdenacao=ASC&btnPesq=Pesquisar\"\n",
        "\n",
        "        r = requests.get(uri)\n",
        "        conteudo = r.content\n",
        "\n",
        "        soup = BeautifulSoup(conteudo, 'html.parser')\n",
        "        dados = soup.find('table', class_='variasColunas')\n",
        "\n",
        "        if dados is not None:\n",
        "            fn_busca_tabela(dados, link_base, discursos, data_discurso)\n",
        "\n",
        "        data_atual = fn_get_proxima_data(data_atual)\n",
        "\n",
        "        df = pd.DataFrame(list(zip(data_discurso, discursos)), columns=['data_discurso', 'discurso'])\n",
        "    return df\n",
        "\n",
        "\n",
        "def fn_busca_tabela(tabela, link_base, discursos, data_discurso):\n",
        "    for linha in tabela.findAll('tr'):\n",
        "        celula = linha.findAll('td')\n",
        "\n",
        "        if len(celula) == 8:\n",
        "            data_discurso.append((((celula[0].find(string=True)).replace('\\r', '')).replace('\\n', '')).replace('\\t', ''))\n",
        "\n",
        "            texto = fn_retorna_conteudo(\n",
        "                link_base + (((celula[3].find('a', href=True)['href']).replace('\\r', '')).replace('\\n', '')).replace(\n",
        "                    '\\t', ''))\n",
        "            discursos.append(texto)\n",
        "\n",
        "\n",
        "def fn_retorna_conteudo(uri):\n",
        "    retorna_resultado = requests.get(uri)\n",
        "    retorna_conteudo = retorna_resultado.content\n",
        "    dados = BeautifulSoup(retorna_conteudo, 'html.parser')\n",
        "    dados = dados.find('p').getText()\n",
        "    return(dados)"
      ],
      "metadata": {
        "id": "7mNcpkFLGUq1"
      },
      "execution_count": 8,
      "outputs": []
    },
    {
      "cell_type": "markdown",
      "source": [
        "#### Função que resume o conteúdo dos discursos"
      ],
      "metadata": {
        "id": "-ABo7SjlJZQD"
      }
    },
    {
      "cell_type": "code",
      "source": [
        "def fn_explicar(dataframe, model):\n",
        "    \"\"\"\n",
        "    Usa o modelo Gemini para explicar o conteúdo de cada linha de um dataframe.\n",
        "\n",
        "    Args:\n",
        "        dataframe: O dataframe a ser explicado.\n",
        "        modeo: Modelo do Gemini a ser utilizado.\n",
        "\n",
        "    Returns:\n",
        "        Uma lista de strings, onde cada string é a explicação do Gemini para o conteúdo de uma linha do dataframe informado.\n",
        "    \"\"\"\n",
        "\n",
        "    explicacoes = []\n",
        "    for index, row in dataframe.iterrows():\n",
        "        prompt = f\"\"\"\n",
        "        Resuma o conteúdo da seguinte linha de um dataframe sem viés político ou ideológico. Se atenha ao que está no texto. O resumo deve conter no máximo 256 tokens:\n",
        "        Em {row['data_discurso']}:\n",
        "        {row.to_dict()}\n",
        "        \"\"\"\n",
        "        resposta = model.generate_content(prompt)\n",
        "        explicacoes.append(resposta.text)\n",
        "\n",
        "    return explicacoes"
      ],
      "metadata": {
        "id": "cj8PBNDtcbdU"
      },
      "execution_count": 9,
      "outputs": []
    },
    {
      "cell_type": "code",
      "source": [
        "# Função para markdown do resultado\n",
        "def fn_markdown(text):\n",
        "    text = text.replace('•', '  *')\n",
        "    return Markdown(textwrap.indent(text, '> ', predicate=lambda _: True))"
      ],
      "metadata": {
        "id": "aDxtGbmgub_-"
      },
      "execution_count": 26,
      "outputs": []
    },
    {
      "cell_type": "code",
      "source": [
        "chat = model.start_chat(history=[])\n",
        "print(\"Bem-vindo ao Sumarizador Imparcial de Discursos dos Deputados Federais! Informe os dados ou digite 'fim' no primeiro campo para sair.\\n\\n\")\n",
        "\n",
        "def loop_de_analise_de_discursos(fn_get_notas_taquigafricas, fn_explicar, model, LINK):\n",
        "  \"\"\"\n",
        "  Loop para analisar discursos de parlamentares usando as funções fornecidas.\n",
        "  \"\"\"\n",
        "  nome_orador = \"\"\n",
        "\n",
        "  while nome_orador.lower() != \"fim\":\n",
        "    nome_orador = input(\"Digite o nome do Parlamentar (ou 'fim' para encerrar): \")\n",
        "    if nome_orador.lower() == \"fim\":\n",
        "      break\n",
        "\n",
        "    data_inicio = input(\"Digite a data de início do discurso proferido (dd/mm/aaaa): \")\n",
        "    data_fim = input(\"Digite a data final do discurso proferido (dd/mm/aaaa): \")\n",
        "\n",
        "    df = fn_get_notas_taquigafricas(nome_orador, data_inicio, data_fim, LINK)\n",
        "\n",
        "    if df is not None:  # Verifica se o dataframe foi criado com sucesso\n",
        "      explicacoes = fn_explicar(df, model)\n",
        "      for explicacao in explicacoes:\n",
        "        display(fn_markdown(f'**Bot Sumarizador**: {explicacao}'))\n",
        "        #print(\"Resumo: \", explicacao, \"\\n\")\n",
        "    else:\n",
        "      print(\"Não foram encontradas notas taquigráficas para o período especificado.\")\n",
        "\n",
        "\n",
        "loop_de_analise_de_discursos(fn_get_notas_taquigafricas, fn_explicar, model, LINK)"
      ],
      "metadata": {
        "colab": {
          "base_uri": "https://localhost:8080/",
          "height": 403
        },
        "id": "i8AJlz0vr77V",
        "outputId": "c1cc5ca3-0d09-4de3-c23d-8b0d87b05e26"
      },
      "execution_count": 28,
      "outputs": [
        {
          "name": "stdout",
          "output_type": "stream",
          "text": [
            "Bem-vindo ao Sumarizador Imparcial de Discursos dos Deputados Federais! Informe os dados ou digite 'fim' no primeiro campo para sair.\n",
            "\n",
            "\n",
            "Digite o nome do Parlamentar (ou 'fim' para encerrar): KIM KATAGUIRI\n",
            "Digite a data de início do discurso proferido (dd/mm/aaaa): 06/02/2024\n",
            "Digite a data final do discurso proferido (dd/mm/aaaa): 19/03/2024\n"
          ]
        },
        {
          "output_type": "display_data",
          "data": {
            "text/plain": [
              "<IPython.core.display.Markdown object>"
            ],
            "text/markdown": "> **Bot Sumarizador**: Em 6 de fevereiro de 2024, o deputado Kim Kataguiri (Bloco/UNIÃO-SP) discursou na Câmara dos Deputados para saudar o retorno do deputado Pauderney Avelino (DEM-AM) à Casa. Kataguiri elogiou a firmeza de Avelino na defesa de seus valores e expressou honra em tê-lo como colega de bancada."
          },
          "metadata": {}
        },
        {
          "output_type": "display_data",
          "data": {
            "text/plain": [
              "<IPython.core.display.Markdown object>"
            ],
            "text/markdown": "> **Bot Sumarizador**: Em 27/02/2024, o deputado Kim Kataguiri criticou um projeto de lei que, segundo ele, inviabilizaria a correção da tabela do Imposto de Renda para isentar quem ganha até R$ 5.000,00, conforme prometido pelo presidente Lula durante a campanha eleitoral. Kataguiri argumentou que o projeto vincularia a isenção à faixa de até dois salários mínimos, o que impediria a correção da tabela pela inflação e tornaria a promessa de Lula inviável. Ele também criticou o projeto por impedir que futuros presidentes corrigissem a tabela pelo valor devido, configurando um \"estelionato eleitoral\"."
          },
          "metadata": {}
        },
        {
          "output_type": "display_data",
          "data": {
            "text/plain": [
              "<IPython.core.display.Markdown object>"
            ],
            "text/markdown": "> **Bot Sumarizador**: Em 19 de março de 2024, o deputado Kim Kataguiri criticou o governo Lula por propor medidas que afetam negativamente os motoristas e entregadores de aplicativo, como aumento de impostos e redução de rendimentos. Ele também expressou preocupação com a libertação de criminosos perigosos devido à Resolução do CNJ que encerra hospitais psiquiátricos de custódia. Kataguiri apelou à aprovação urgente de um projeto de lei que regulamenta esses hospitais e impede a libertação de 5.000 criminosos perigosos."
          },
          "metadata": {}
        },
        {
          "name": "stdout",
          "output_type": "stream",
          "text": [
            "Digite o nome do Parlamentar (ou 'fim' para encerrar): FIM\n"
          ]
        }
      ]
    }
  ],
  "metadata": {
    "colab": {
      "toc_visible": true,
      "provenance": [],
      "include_colab_link": true
    },
    "kernelspec": {
      "display_name": "Python 3",
      "name": "python3"
    }
  },
  "nbformat": 4,
  "nbformat_minor": 0
}